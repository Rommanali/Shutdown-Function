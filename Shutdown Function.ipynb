{
 "cells": [
  {
   "cell_type": "code",
   "execution_count": 1,
   "id": "7bbd895c",
   "metadata": {},
   "outputs": [],
   "source": [
    "def shut_down(s):\n",
    "    if s=='yes':\n",
    "        print('Shutdown')\n",
    "    elif s=='no':\n",
    "        print('Shutdown aborted')\n",
    "    else:\n",
    "        print('Sorry')\n",
    " "
   ]
  }
 ],
 "metadata": {
  "kernelspec": {
   "display_name": "Python 3 (ipykernel)",
   "language": "python",
   "name": "python3"
  },
  "language_info": {
   "codemirror_mode": {
    "name": "ipython",
    "version": 3
   },
   "file_extension": ".py",
   "mimetype": "text/x-python",
   "name": "python",
   "nbconvert_exporter": "python",
   "pygments_lexer": "ipython3",
   "version": "3.8.7"
  }
 },
 "nbformat": 4,
 "nbformat_minor": 5
}
